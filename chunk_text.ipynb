{
 "cells": [
  {
   "cell_type": "code",
   "execution_count": 12,
   "id": "d5b6646e-9274-479e-bff6-5b3301ba5459",
   "metadata": {},
   "outputs": [
    {
     "name": "stdout",
     "output_type": "stream",
     "text": [
      "file count 40\n"
     ]
    }
   ],
   "source": [
    "import os\n",
    "\n",
    "folder_path = '/Users/cheamenghour/Documents/Cambodia Agriculture/ស្រូវ/១២ ជំហានដើម្បីផលិតស្រូវបានជោគជ័យ/text'\n",
    "\n",
    "text_file = len([\n",
    "    f for f in os.listdir(folder_path)\n",
    "    if os.path.isfile(os.path.join(folder_path, f)) and not f.startswith('.')\n",
    "])\n",
    "\n",
    "print(\"file count\", text_file)\n"
   ]
  },
  {
   "cell_type": "code",
   "execution_count": null,
   "id": "7ad5ffe0-83b0-4b76-af7c-330f2a6017fd",
   "metadata": {},
   "outputs": [],
   "source": [
    "# Create chunk\n",
    "# Chunk and cleaned text\n",
    "\n",
    "from langchain.text_splitter import RecursiveCharacterTextSplitter\n",
    "\n",
    "raw_text = ''\n",
    "# Load cleaned text \n",
    "for i in range(text_file):\n",
    "    with open(f'/Users/cheamenghour/Documents/Cambodia Agriculture/ស្រូវ/១២ ជំហានដើម្បីផលិតស្រូវបានជោគជ័យ/text/១២ ជំហានដើម្បីផលិតស្រូវបានជោគជ័យ_page_{i+1}.text', \"r\", encoding=\"utf-8\") as f:\n",
    "        raw_text += f.read() + '/n/n'\n",
    "        \n",
    "\n",
    "# Initialize the text splitter\n",
    "text_splitter = RecursiveCharacterTextSplitter(\n",
    "    chunk_size=500,     # number of characters per chunk\n",
    "    chunk_overlap=50,   # how much to overlap between chunks\n",
    "    separators=[\"\\n\\n\", \"\\n\", \".\", \"។\", \"៕\", \" \"],  # include Khmer punctuation\n",
    ")\n",
    "\n",
    "# Create chunks\n",
    "chunks = text_splitter.split_text(raw_text)\n",
    "\n",
    "\n",
    "# Create chunk folder\n",
    "folder_dir =  '/Users/cheamenghour/Documents/Cambodia Agriculture/ស្រូវ/១២ ជំហានដើម្បីផលិតស្រូវបានជោគជ័យ'\n",
    "chunk_folder = os.path.join(folder_dir, 'chunk_text')\n",
    "os.makedirs(chunk_folder, exist_ok = True)\n",
    "\n",
    "# Optional: Save all chunks to a single file\n",
    "with open(\"/Users/cheamenghour/Documents/Cambodia Agriculture/ស្រូវ/១២ ជំហានដើម្បីផលិតស្រូវបានជោគជ័យ/chunk_text/១២ ជំហានដើម្បីផលិតស្រូវបានជោគជ័យ_chunks.txt\", \"w\", encoding=\"utf-8\") as f:\n",
    "    for i, chunk in enumerate(chunks):\n",
    "        f.write(f\"--- Chunk {i + 1} ---\\n{chunk}\\n\\n\")\n"
   ]
  },
  {
   "cell_type": "code",
   "execution_count": null,
   "id": "ceabe905-b34d-42d8-985b-594672c86915",
   "metadata": {},
   "outputs": [],
   "source": []
  },
  {
   "cell_type": "code",
   "execution_count": 9,
   "id": "59f1b865-54f1-4f7c-9a0a-fd81a584f10a",
   "metadata": {},
   "outputs": [],
   "source": []
  },
  {
   "cell_type": "code",
   "execution_count": null,
   "id": "5ad9bc5b-7629-4d60-8e8c-0cbef4f3a241",
   "metadata": {},
   "outputs": [],
   "source": []
  },
  {
   "cell_type": "code",
   "execution_count": null,
   "id": "ab44ce19-0a65-4146-821b-f83cf6266731",
   "metadata": {},
   "outputs": [],
   "source": [
    "# embed chunk text"
   ]
  },
  {
   "cell_type": "code",
   "execution_count": null,
   "id": "dd17c97b-da37-4e10-a33a-44ae72b4bea6",
   "metadata": {},
   "outputs": [],
   "source": [
    "#pip install sentence-transformers"
   ]
  },
  {
   "cell_type": "code",
   "execution_count": 1,
   "id": "3732859d-49d7-4bf5-80b1-15fc9969cc1c",
   "metadata": {},
   "outputs": [],
   "source": [
    "def load_chunks_from_file(path):\n",
    "    with open(path, \"r\", encoding=\"utf-8\") as f:\n",
    "        text = f.read()\n",
    "\n",
    "    # Split on \"--- Chunk\"\n",
    "    raw_chunks = text.split('--- Chunk')[1:]  # skip the header before first chunk\n",
    "    chunks = [\"--- Chunk\" + chunk.strip() for chunk in raw_chunks if chunk.strip()]\n",
    "    return chunks\n",
    "    \n",
    "chunks = load_chunks_from_file('/Users/cheamenghour/Documents/Cambodia Agriculture/All_chunks/all_chunks.txt') # Load all chunk text\n"
   ]
  },
  {
   "cell_type": "code",
   "execution_count": 2,
   "id": "cafdc954-41e8-4228-9c1c-4b701984ac53",
   "metadata": {},
   "outputs": [
    {
     "name": "stdout",
     "output_type": "stream",
     "text": [
      "8\n"
     ]
    }
   ],
   "source": [
    "# Check chunk lens\n",
    "\n",
    "print(len(chunks))"
   ]
  },
  {
   "cell_type": "code",
   "execution_count": null,
   "id": "eddd21c0-2a72-4db4-9c54-c80032abfb60",
   "metadata": {},
   "outputs": [],
   "source": [
    "from sentence_transformers import SentenceTransformer\n",
    "import numpy as np\n",
    "embeddings_model = SentenceTransformer('distiluse-base-multilingual-cased')\n",
    "embeddings = embeddings_model.encode(chunks, convert_to_tensor=True)\n",
    "vectors = np.array(embeddings).astype(\"float32\")"
   ]
  },
  {
   "cell_type": "code",
   "execution_count": null,
   "id": "3e355a97-1c01-47f7-8bb2-f3f47c9a266b",
   "metadata": {},
   "outputs": [],
   "source": [
    "# Save database for further use\n",
    "\n",
    "import faiss\n",
    "import numpy as np\n",
    "\n",
    "dimension = vectors.shape[1]  \n",
    "index = faiss.IndexFlatL2(dimension)\n",
    "index.add(vectors)\n",
    "\n",
    "\n",
    "# Save index for later use\n",
    "faiss.write_index(index, '/Users/cheamenghour/Documents/Cambodia Agriculture/Vector database/khmer_agri_index.faiss') # Dir to save database\n"
   ]
  },
  {
   "cell_type": "code",
   "execution_count": null,
   "id": "1b3f29c9-9f27-41fb-a061-4fa4c38b4e32",
   "metadata": {},
   "outputs": [],
   "source": [
    "print(\"Chunks:\", len(chunks), \"| FAISS vectors:\", index.ntotal)"
   ]
  }
 ],
 "metadata": {
  "kernelspec": {
   "display_name": "Python 3 (ipykernel)",
   "language": "python",
   "name": "python3"
  },
  "language_info": {
   "codemirror_mode": {
    "name": "ipython",
    "version": 3
   },
   "file_extension": ".py",
   "mimetype": "text/x-python",
   "name": "python",
   "nbconvert_exporter": "python",
   "pygments_lexer": "ipython3",
   "version": "3.13.5"
  }
 },
 "nbformat": 4,
 "nbformat_minor": 5
}
