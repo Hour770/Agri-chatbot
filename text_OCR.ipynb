{
 "cells": [
  {
   "cell_type": "code",
   "execution_count": null,
   "id": "a1bfe2da-8264-47b2-a79c-cf8ebb957b51",
   "metadata": {},
   "outputs": [],
   "source": [
    "pip install pytesseract pdf2image pillow\n",
    "pip install langchain tiktoken"
   ]
  },
  {
   "cell_type": "code",
   "execution_count": 17,
   "id": "e35285e6-085a-4426-a048-9d1db9b35e01",
   "metadata": {},
   "outputs": [
    {
     "name": "stdout",
     "output_type": "stream",
     "text": [
      "['eng', 'khm', 'osd']\n"
     ]
    }
   ],
   "source": [
    "# Get Khmer OCR model\n",
    "import pytesseract\n",
    "\n",
    "# Point to the correct path where tesseract.exe is installed\n",
    "pytesseract.pytesseract.tesseract_cmd = r'/Users/cheamenghour/Documents/Cambodia Agriculture/tesseract-OCR/tesseract.exe'\n",
    "\n",
    "# Print available OCR languages\n",
    "print(pytesseract.get_languages(config=''))\n"
   ]
  },
  {
   "cell_type": "code",
   "execution_count": 32,
   "id": "ebf4f4e5-0e3d-4d0e-8190-8c63e65bd690",
   "metadata": {},
   "outputs": [],
   "source": [
    "import os\n",
    "from pdf2image import convert_from_path\n",
    "\n",
    "folder_dir = '/Users/cheamenghour/Documents/Cambodia Agriculture/ស្រូវ'\n",
    "poppler_path = r'/Users/cheamenghour/Documents/Cambodia Agriculture/Release-24.08.0-0/poppler-24.08.0/Library/bin'\n",
    "\n",
    "\n",
    "for root, dirs, files in os.walk(folder_dir):\n",
    "    for file in files:\n",
    "        if file.lower().endswith('.pdf'):\n",
    "            file_path = os.path.join(root, file)\n",
    "            images = convert_from_path(file_path, poppler_path = poppler_path)\n",
    "            text_folder = os.path.join(root, 'text')\n",
    "            os.makedirs(text_folder, exist_ok = True)\n",
    "            for i, img in enumerate(images):\n",
    "                text = pytesseract.image_to_string(img, lang ='khm')\n",
    "                file = os.path.splitext(file)[0]  # removes .pdf\n",
    "                text_path = os.path.join(text_folder, f'{file}_page_{i+1}.text')\n",
    "                with open(text_path, 'w', encoding = 'utf-8') as f:\n",
    "                    f.write(text)\n"
   ]
  },
  {
   "cell_type": "code",
   "execution_count": 10,
   "id": "71d88122-1a20-4503-804a-ac5f13f1f7d9",
   "metadata": {},
   "outputs": [
    {
     "name": "stdout",
     "output_type": "stream",
     "text": [
      "2\n"
     ]
    }
   ],
   "source": [
    "print(len(images))"
   ]
  },
  {
   "cell_type": "code",
   "execution_count": null,
   "id": "cb037b93-e308-4f42-b939-c069e1be3819",
   "metadata": {},
   "outputs": [],
   "source": []
  },
  {
   "cell_type": "code",
   "execution_count": null,
   "id": "2be41165-5297-412c-8b08-863f35525175",
   "metadata": {},
   "outputs": [],
   "source": []
  },
  {
   "cell_type": "code",
   "execution_count": 12,
   "id": "aa17ebb7-7e96-4878-aaab-4bec1c46c369",
   "metadata": {},
   "outputs": [],
   "source": []
  },
  {
   "cell_type": "code",
   "execution_count": null,
   "id": "1bd89b22-87c1-42cd-8b96-bdff53e3a839",
   "metadata": {},
   "outputs": [],
   "source": []
  },
  {
   "cell_type": "code",
   "execution_count": null,
   "id": "f2a555b8-f64c-4ecd-9cad-c673555ef151",
   "metadata": {},
   "outputs": [],
   "source": []
  },
  {
   "cell_type": "code",
   "execution_count": 6,
   "id": "779f0bc2-87d5-4ef1-947a-34b8a9b9a863",
   "metadata": {},
   "outputs": [
    {
     "name": "stdout",
     "output_type": "stream",
     "text": [
      "✅ Table data extracted and saved to:\n",
      "/Users/cheamenghour/Documents/Cambodia Agriculture/ស្រូវ/១២ ជំហានដើម្បីផលិតស្រូវបានជោគជ័យ/table/table_output.xlsx\n"
     ]
    }
   ],
   "source": [
    "# Table detection\n",
    "\n",
    "import pdfplumber\n",
    "from openpyxl import Workbook\n",
    "import os\n",
    "\n",
    "# Set your input and output paths\n",
    "pdf_path = \"/Users/cheamenghour/Documents/Cambodia Agriculture/ស្រូវ/១២ ជំហានដើម្បីផលិតស្រូវបានជោគជ័យ/១២ ជំហានដើម្បីផលិតស្រូវបានជោគជ័យ.pdf\"\n",
    "xlsx_output = \"/Users/cheamenghour/Documents/Cambodia Agriculture/ស្រូវ/១២ ជំហានដើម្បីផលិតស្រូវបានជោគជ័យ/table/table_output.xlsx\"\n",
    "\n",
    "# Create a new Excel workbook and sheet\n",
    "wb = Workbook()\n",
    "ws = wb.active\n",
    "ws.title = \"Extracted Tables\"\n",
    "\n",
    "# Open PDF and extract tables\n",
    "with pdfplumber.open(pdf_path) as pdf:\n",
    "    for page_num, page in enumerate(pdf.pages, start=1):\n",
    "        tables = page.extract_tables()\n",
    "        for table in tables:\n",
    "            # Add a page header before each table (optional)\n",
    "            ws.append([f\"--- Table from Page {page_num} ---\"])\n",
    "            for row in table:\n",
    "                clean_row = [cell.replace(\"\\n\", \" \").strip() if cell else \"\" for cell in row]\n",
    "                ws.append(clean_row)\n",
    "            ws.append([])  # Add a blank row between tables\n",
    "\n",
    "# Save the file (no need to worry about encoding for .xlsx)\n",
    "wb.save(xlsx_output)\n",
    "\n",
    "print(f\"✅ Table data extracted and saved to:\\n{xlsx_output}\")\n",
    "\n"
   ]
  },
  {
   "cell_type": "code",
   "execution_count": 2,
   "id": "37db3197-d5a2-4d31-a812-2e76666ccf43",
   "metadata": {},
   "outputs": [],
   "source": [
    "# Table to text and convert to chunk text.\n",
    "\n",
    "import pandas as pd\n",
    "\n",
    "def table_to_text(path):\n",
    "    df = pd.read_excel(path)\n",
    "    text_chunks = []\n",
    "\n",
    "    for index, row in df.iterrows():\n",
    "        row_text = \" | \".join([f\"{col}: {row[col]}\" for col in df.columns])\n",
    "        text_chunks.append(row_text)\n",
    "\n",
    "    return \"\\n\".join(text_chunks)\n",
    "\n",
    "# Example usage:\n",
    "table_text = table_to_text(\"D:/Cambodia Agriculture/Text data/ពូជស្រូវ ដំណើបស្បៃមង្គល/table/table_2.xlsx\")\n",
    "\n",
    "# Optional: Save it or include in your main chunk\n",
    "with open(\"D:/Cambodia Agriculture/Text data/ពូជស្រូវ ដំណើបស្បៃមង្គល/chunk text/table2_chunk.txt\", \"w\", encoding=\"utf-8\") as f:\n",
    "    f.write(\"--- chunk ---\\n\")\n",
    "    f.write(table_text)"
   ]
  }
 ],
 "metadata": {
  "kernelspec": {
   "display_name": "Python 3 (ipykernel)",
   "language": "python",
   "name": "python3"
  },
  "language_info": {
   "codemirror_mode": {
    "name": "ipython",
    "version": 3
   },
   "file_extension": ".py",
   "mimetype": "text/x-python",
   "name": "python",
   "nbconvert_exporter": "python",
   "pygments_lexer": "ipython3",
   "version": "3.13.5"
  }
 },
 "nbformat": 4,
 "nbformat_minor": 5
}
