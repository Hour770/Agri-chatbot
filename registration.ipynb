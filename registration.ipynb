{
 "cells": [
  {
   "cell_type": "code",
   "execution_count": null,
   "id": "6f7cb55d-08f6-40c3-9cfe-3c868f70c45a",
   "metadata": {},
   "outputs": [],
   "source": [
    "pip install getpass4\n",
    "pip install mysql-connector-python"
   ]
  },
  {
   "cell_type": "code",
   "execution_count": 15,
   "id": "5a84c00b-de30-41d2-b4dd-44f8e175865c",
   "metadata": {
    "scrolled": true
   },
   "outputs": [
    {
     "name": "stdin",
     "output_type": "stream",
     "text": [
      "Enter a username :  hello\n",
      "Enter email for hello:  hello.com\n",
      "Enter your password:  ········\n",
      "Confirm your password:  ········\n"
     ]
    },
    {
     "name": "stdout",
     "output_type": "stream",
     "text": [
      "Inserted: hello\n"
     ]
    }
   ],
   "source": [
    "import mysql.connector\n",
    "import getpass\n",
    "\n",
    "'''\n",
    "database information:\n",
    "- database name registeration include one table name 'users'.\n",
    "- table include columns id, name, email, password.\n",
    "- id with number generative, no need to fill id for each users.\n",
    "- name, email, password with varchar 255.\n",
    "'''\n",
    "\n",
    "# Connect to the MySQL database\n",
    "conn = mysql.connector.connect(\n",
    "    host=\"localhost\",\n",
    "    user=\"root\", # Replace with your sql username\n",
    "    password=\"hour012698594\", # Replace your sql password\n",
    "    database=\"registeration\" # Replace your database name \n",
    ")\n",
    "\n",
    "def create_account():\n",
    "    cursor = conn.cursor()\n",
    "    sql = \"INSERT INTO users (name, email, password) VALUES (%s, %s, %s)\"\n",
    "    \n",
    "    while True:\n",
    "        name = input(\"Enter a username : \").strip()\n",
    "    \n",
    "        # Check if the name already exists\n",
    "        cursor.execute(\"SELECT COUNT(*) FROM users WHERE name = %s\", (name,))\n",
    "        (count,) = cursor.fetchone()\n",
    "        if count == 0:\n",
    "            email = input(f\"Enter email for {name}: \").strip()\n",
    "            \n",
    "            while True:\n",
    "                password = getpass.getpass(\"Enter your password: \").strip()\n",
    "                confirm_password = getpass.getpass(\"Confirm your password: \").strip()\n",
    "                if password == confirm_password:\n",
    "                    break\n",
    "                else:\n",
    "                    print(\"Passwords do not match. Please try again.\")\n",
    "    \n",
    "            cursor.execute(\"INSERT INTO users (name, email, password) VALUES (%s, %s, %s)\", (name, email, password))\n",
    "            conn.commit()\n",
    "            print(f\"Inserted: {name}\")\n",
    "            break\n",
    "        else:\n",
    "            print(f\"Skipped: username '{name}' already exists.\")\n",
    "            \n",
    "\n",
    "    cursor.close()\n",
    "\n",
    "\n",
    "create_account()\n"
   ]
  },
  {
   "cell_type": "code",
   "execution_count": 16,
   "id": "bb6aee46-e7e6-4908-b027-dda32cae9e0f",
   "metadata": {},
   "outputs": [],
   "source": [
    "def login():\n",
    "    \n",
    "    cursor = conn.cursor()\n",
    "    \n",
    "    username = input(\"Enter your username: \").strip()\n",
    "    password = getpass.getpass(\"Enter your password: \").strip()\n",
    "\n",
    "    cursor.execute(\"SELECT * FROM users WHERE name = %s AND password = %s\", (username, password))\n",
    "    result = cursor.fetchone()\n",
    "\n",
    "    if result:\n",
    "        print(f\"Login successful. Welcome back, {username}!\")\n",
    "    else:\n",
    "        print(\"Login failed. Invalid username or password.\")\n",
    "\n",
    "    cursor.close()\n"
   ]
  },
  {
   "cell_type": "code",
   "execution_count": 17,
   "id": "f86a6983-083d-4b46-bbd3-93ae745d6de5",
   "metadata": {},
   "outputs": [
    {
     "name": "stdin",
     "output_type": "stream",
     "text": [
      "Enter your username:  hello\n",
      "Enter your password:  ········\n"
     ]
    },
    {
     "name": "stdout",
     "output_type": "stream",
     "text": [
      "Login successful. Welcome back, hello!\n"
     ]
    },
    {
     "ename": "InternalError",
     "evalue": "Unread result found",
     "output_type": "error",
     "traceback": [
      "\u001b[31m---------------------------------------------------------------------------\u001b[39m",
      "\u001b[31mInternalError\u001b[39m                             Traceback (most recent call last)",
      "\u001b[36mCell\u001b[39m\u001b[36m \u001b[39m\u001b[32mIn[17]\u001b[39m\u001b[32m, line 1\u001b[39m\n\u001b[32m----> \u001b[39m\u001b[32m1\u001b[39m \u001b[43mlogin\u001b[49m\u001b[43m(\u001b[49m\u001b[43m)\u001b[49m\n",
      "\u001b[36mCell\u001b[39m\u001b[36m \u001b[39m\u001b[32mIn[16]\u001b[39m\u001b[32m, line 16\u001b[39m, in \u001b[36mlogin\u001b[39m\u001b[34m()\u001b[39m\n\u001b[32m     13\u001b[39m \u001b[38;5;28;01melse\u001b[39;00m:\n\u001b[32m     14\u001b[39m     \u001b[38;5;28mprint\u001b[39m(\u001b[33m\"\u001b[39m\u001b[33mLogin failed. Invalid username or password.\u001b[39m\u001b[33m\"\u001b[39m)\n\u001b[32m---> \u001b[39m\u001b[32m16\u001b[39m \u001b[43mcursor\u001b[49m\u001b[43m.\u001b[49m\u001b[43mclose\u001b[49m\u001b[43m(\u001b[49m\u001b[43m)\u001b[49m\n\u001b[32m     17\u001b[39m conn.close()\n",
      "\u001b[36mFile \u001b[39m\u001b[32m/Library/Frameworks/Python.framework/Versions/3.13/lib/python3.13/site-packages/mysql/connector/cursor_cext.py:516\u001b[39m, in \u001b[36mCMySQLCursor.close\u001b[39m\u001b[34m(self)\u001b[39m\n\u001b[32m    513\u001b[39m \u001b[38;5;28;01mif\u001b[39;00m \u001b[38;5;129;01mnot\u001b[39;00m \u001b[38;5;28mself\u001b[39m._connection:\n\u001b[32m    514\u001b[39m     \u001b[38;5;28;01mreturn\u001b[39;00m \u001b[38;5;28;01mFalse\u001b[39;00m\n\u001b[32m--> \u001b[39m\u001b[32m516\u001b[39m \u001b[38;5;28;43mself\u001b[39;49m\u001b[43m.\u001b[49m\u001b[43m_connection\u001b[49m\u001b[43m.\u001b[49m\u001b[43mhandle_unread_result\u001b[49m\u001b[43m(\u001b[49m\u001b[43m)\u001b[49m\n\u001b[32m    517\u001b[39m \u001b[38;5;28mself\u001b[39m._warnings = \u001b[38;5;28;01mNone\u001b[39;00m\n\u001b[32m    518\u001b[39m \u001b[38;5;28mself\u001b[39m._connection = \u001b[38;5;28;01mNone\u001b[39;00m\n",
      "\u001b[36mFile \u001b[39m\u001b[32m/Library/Frameworks/Python.framework/Versions/3.13/lib/python3.13/site-packages/mysql/connector/connection_cext.py:1121\u001b[39m, in \u001b[36mCMySQLConnection.handle_unread_result\u001b[39m\u001b[34m(self, prepared)\u001b[39m\n\u001b[32m   1119\u001b[39m     \u001b[38;5;28mself\u001b[39m.consume_results()\n\u001b[32m   1120\u001b[39m \u001b[38;5;28;01melif\u001b[39;00m unread_result:\n\u001b[32m-> \u001b[39m\u001b[32m1121\u001b[39m     \u001b[38;5;28;01mraise\u001b[39;00m InternalError(\u001b[33m\"\u001b[39m\u001b[33mUnread result found\u001b[39m\u001b[33m\"\u001b[39m)\n",
      "\u001b[31mInternalError\u001b[39m: Unread result found"
     ]
    }
   ],
   "source": [
    "login()"
   ]
  },
  {
   "cell_type": "code",
   "execution_count": null,
   "id": "4705f117-305a-48af-b32c-41e348e3d4de",
   "metadata": {},
   "outputs": [],
   "source": []
  }
 ],
 "metadata": {
  "kernelspec": {
   "display_name": "Python 3 (ipykernel)",
   "language": "python",
   "name": "python3"
  },
  "language_info": {
   "codemirror_mode": {
    "name": "ipython",
    "version": 3
   },
   "file_extension": ".py",
   "mimetype": "text/x-python",
   "name": "python",
   "nbconvert_exporter": "python",
   "pygments_lexer": "ipython3",
   "version": "3.13.5"
  }
 },
 "nbformat": 4,
 "nbformat_minor": 5
}
